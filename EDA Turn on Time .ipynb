{
 "cells": [
  {
   "cell_type": "markdown",
   "metadata": {},
   "source": [
    "# Here a kick scan from the data from the fire-brigate department"
   ]
  },
  {
   "cell_type": "code",
   "execution_count": null,
   "metadata": {},
   "outputs": [],
   "source": [
    "import pandas as pd\n",
    "import numpy as np\n",
    "from pyproj import Proj, transform\n",
    "from math import radians, cos, sin, asin, sqrt,atan2"
   ]
  },
  {
   "cell_type": "markdown",
   "metadata": {},
   "source": [
    "## Call the data sets"
   ]
  },
  {
   "cell_type": "code",
   "execution_count": null,
   "metadata": {},
   "outputs": [],
   "source": [
    "df_in = pd.read_csv('data\\JADS\\incidenten_2017.csv', sep=';', decimal=',')\n",
    "df_dep = pd.read_csv('data\\JADS\\inzetten_2017.csv', sep=';', decimal=',')\n",
    "locations = pd.read_excel('data\\JADS\\kazernepositie en voertuigen.xlsx', sheet_name='adressen')"
   ]
  },
  {
   "cell_type": "code",
   "execution_count": null,
   "metadata": {},
   "outputs": [],
   "source": [
    "#(in) incident starts = dim_incident_start_datumtijd\n",
    "#(in) incident finish = dim_incident_eind_datumtijd\n",
    "#(dep) alarm is activated = inzet_gealarmeerd_datumtijd\n",
    "#(dep) leave = inzet_uitgerukt_datumtijd\n",
    "#(dep) arrive = inzet_terplaatse_datumtijd\n"
   ]
  },
  {
   "cell_type": "code",
   "execution_count": null,
   "metadata": {},
   "outputs": [],
   "source": [
    "locations"
   ]
  },
  {
   "cell_type": "code",
   "execution_count": null,
   "metadata": {
    "scrolled": false
   },
   "outputs": [],
   "source": [
    "df_in.T"
   ]
  },
  {
   "cell_type": "code",
   "execution_count": null,
   "metadata": {},
   "outputs": [],
   "source": [
    "df_dep.T"
   ]
  },
  {
   "cell_type": "code",
   "execution_count": null,
   "metadata": {
    "scrolled": false
   },
   "outputs": [],
   "source": [
    "print(\"the shape of the incidents dataset is {}\".format(df_in.shape))\n",
    "print(\"the shape of the deployment dataset is {}\".format(df_dep.shape))\n",
    "print(\"the time span of the data set incidents is: {}\".format((min(df_in['dim_datum_datum']), max(df_in['dim_datum_datum']))))\n",
    "print(print(\"the time span of the data set deploy is: {}\".format((min(df_dep['inzet_gealarmeerd_datumtijd']), \n",
    "                                                                  max(df_dep['inzet_gealarmeerd_datumtijd'])))))\n",
    "\n",
    "incidents_df_in = list(set(df_in['dim_incident_id'].unique()) - set(df_dep['hub_incident_id'].unique()))\n",
    "incidents_df_dep = list(set(df_dep['hub_incident_id'].unique()) - set(df_in['dim_incident_id'].unique()))\n",
    "\n",
    "print('the following id are only at incidents {}'.format(incidents_df_in))\n",
    "print('the following id are only at deploy {}'.format(incidents_df_dep))"
   ]
  },
  {
   "cell_type": "code",
   "execution_count": null,
   "metadata": {},
   "outputs": [],
   "source": [
    "df_in['Aux'] = 1\n",
    "names = list(df_in)\n",
    "# df_in.groupby('Aux')[names].apply(lambda x: x.isnull().sum()).T"
   ]
  },
  {
   "cell_type": "code",
   "execution_count": null,
   "metadata": {},
   "outputs": [],
   "source": [
    "df_in.describe().T.dropna()[['mean', 'std', 'min', 'max']]"
   ]
  },
  {
   "cell_type": "code",
   "execution_count": null,
   "metadata": {},
   "outputs": [],
   "source": [
    "df_dep.describe().T.dropna()[['mean', 'std', 'min', 'max']]\n"
   ]
  },
  {
   "cell_type": "markdown",
   "metadata": {},
   "source": [
    "# EDA on the components of the response time"
   ]
  },
  {
   "cell_type": "code",
   "execution_count": null,
   "metadata": {
    "scrolled": false
   },
   "outputs": [],
   "source": [
    "#(in) incident starts = dim_incident_start_datumtijd\n",
    "#(in) incident finish = dim_incident_eind_datumtijd\n",
    "#(dep) alarm is activated = inzet_gealarmeerd_datumtijd\n",
    "#(dep) leave = inzet_uitgerukt_datumtijd\n",
    "#(dep) arrive = inzet_terplaatse_datumtijd"
   ]
  },
  {
   "cell_type": "code",
   "execution_count": null,
   "metadata": {},
   "outputs": [],
   "source": [
    "print(list(df_in))"
   ]
  },
  {
   "cell_type": "code",
   "execution_count": null,
   "metadata": {},
   "outputs": [],
   "source": [
    "def pre_process_data(df_in, df_dep, locations):\n",
    "    \n",
    "    inProj  = Proj(\"+init=EPSG:28992\", preserve_units=True)\n",
    "    outProj = Proj(\"+init=EPSG:4326\") # WGS84 in degrees and not EPSG:3857 in meters)\n",
    "\n",
    "    def projections(x,y, inProj, outProj):\n",
    "        \"\"\"\n",
    "        in this funtion we transform the data from the corrdinate system to gps\n",
    "        \"\"\"\n",
    "        longitd, latitud = transform(inProj,outProj,x,y)\n",
    "        return longitd, latitud\n",
    "    \n",
    "    \n",
    "    keep_in = ['dim_incident_id','st_x', 'st_y', 'dim_incident_incident_type', 'inc_dim_object_naam', \n",
    "               'dim_incident_start_datumtijd', 'dim_incident_eind_datumtijd', 'dim_prioriteit_prio']\n",
    "    \n",
    "    keep_dep = ['hub_incident_id', 'inzet_uitgerukt_datumtijd', 'inzet_terplaatse_datumtijd', 'voertuig_groep',\n",
    "            'kazerne_groep', 'inzet_kazerne_naam']\n",
    "    \n",
    "    df_in = df_in[keep_in]\n",
    "    df_dep = df_dep[keep_dep]\n",
    "    \n",
    "    M = df_dep.merge(df_in, left_on='hub_incident_id', right_on='dim_incident_id', how = 'inner')\n",
    "    \n",
    "    M['inzet_kazerne_naam'] = M['inzet_kazerne_naam'].apply(lambda x: x.lower())\n",
    "    locations['kazerne'] = locations['kazerne'].apply(lambda x: x.lower())\n",
    "    \n",
    "    M = locations.merge(M, left_on='kazerne', right_on='inzet_kazerne_naam', how = 'inner')\n",
    "    return M\n",
    "\n",
    "M = pre_process_data(df_in, df_dep, locations)\n",
    "M.head()\n"
   ]
  },
  {
   "cell_type": "markdown",
   "metadata": {},
   "source": [
    "data issues:\n",
    "(a) no all the stations have dispatch time\n",
    "(b) no all the stations (kazerne) are in the deploy dataset (inzet_kazerne_naam) ['anton', 'dirk', 'hendrik', 'ijsbrand', 'nico', 'osdorp', 'pieter', 'teunis', 'victor', 'willem', 'zebra']\n",
    "\n"
   ]
  },
  {
   "cell_type": "code",
   "execution_count": null,
   "metadata": {},
   "outputs": [],
   "source": [
    "\n"
   ]
  },
  {
   "cell_type": "code",
   "execution_count": null,
   "metadata": {
    "scrolled": false
   },
   "outputs": [],
   "source": [
    "def haversine(lon1, lat1, lon2, lat2):\n",
    "    \"\"\"\n",
    "    Calculate the great circle distance between two points\n",
    "    on the earth (specified in decimal degrees)\n",
    "    \"\"\"\n",
    "    # convert decimal degrees to radians\n",
    "    lon1, lat1, lon2, lat2 = map(radians, [lon1, lat1, lon2, lat2])\n",
    "\n",
    "    # haversine formula\n",
    "    dlon = lon2 - lon1\n",
    "    dlat = lat2 - lat1\n",
    "    a = (sin(dlat/2))**2 + cos(lat1) * cos(lat2) * (sin(dlon/2))**2\n",
    "    c = 2 * atan2(sqrt(a), sqrt(1-a))\n",
    "    r = 6371 # Radius of earth in kilometers. Use 3956 for miles\n",
    "    return c * r\n",
    "\n",
    "M['haversine_distance (Km)'] = np.vectorize(haversine)(M['lon'], M['lat'], M['st_y'], M['st_x'])/1000\n",
    "M.T"
   ]
  },
  {
   "cell_type": "code",
   "execution_count": null,
   "metadata": {},
   "outputs": [],
   "source": [
    "# to transform latitud and longitud "
   ]
  },
  {
   "cell_type": "code",
   "execution_count": null,
   "metadata": {},
   "outputs": [],
   "source": [
    "\n",
    "\n"
   ]
  },
  {
   "cell_type": "code",
   "execution_count": null,
   "metadata": {},
   "outputs": [],
   "source": []
  },
  {
   "cell_type": "code",
   "execution_count": null,
   "metadata": {},
   "outputs": [],
   "source": []
  },
  {
   "cell_type": "code",
   "execution_count": null,
   "metadata": {},
   "outputs": [],
   "source": []
  }
 ],
 "metadata": {
  "kernelspec": {
   "display_name": "Python 3",
   "language": "python",
   "name": "python3"
  },
  "language_info": {
   "codemirror_mode": {
    "name": "ipython",
    "version": 3
   },
   "file_extension": ".py",
   "mimetype": "text/x-python",
   "name": "python",
   "nbconvert_exporter": "python",
   "pygments_lexer": "ipython3",
   "version": "3.6.4"
  }
 },
 "nbformat": 4,
 "nbformat_minor": 2
}
