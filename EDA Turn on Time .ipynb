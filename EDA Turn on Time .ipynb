{
 "cells": [
  {
   "cell_type": "markdown",
   "metadata": {},
   "source": [
    "# Here a kick scan from the data from the fire-brigate department"
   ]
  },
  {
   "cell_type": "code",
   "execution_count": null,
   "metadata": {},
   "outputs": [],
   "source": [
    "import pandas as pd\n",
    "import numpy as np\n",
    "from pyproj import Proj, transform\n",
    "from math import radians, cos, sin, asin, sqrt,atan2\n",
    "import seaborn as sns\n",
    "import matplotlib.pyplot as plt\n",
    "from scipy import stats"
   ]
  },
  {
   "cell_type": "markdown",
   "metadata": {},
   "source": [
    "## Call the data sets"
   ]
  },
  {
   "cell_type": "code",
   "execution_count": null,
   "metadata": {},
   "outputs": [],
   "source": [
    "df_in = pd.read_csv('data\\JADS\\incidenten_2017.csv', sep=';', decimal=',')\n",
    "df_dep = pd.read_csv('data\\JADS\\inzetten_2017.csv', sep=';', decimal=',')\n",
    "locations = pd.read_excel('data\\JADS\\kazernepositie en voertuigen.xlsx', sheet_name='adressen')"
   ]
  },
  {
   "cell_type": "code",
   "execution_count": null,
   "metadata": {},
   "outputs": [],
   "source": [
    "#(in) incident starts = dim_incident_start_datumtijd\n",
    "#(in) incident finish = dim_incident_eind_datumtijd\n",
    "#(dep) alarm is activated = inzet_gealarmeerd_datumtijd\n",
    "#(dep) leave = inzet_uitgerukt_datumtijd\n",
    "#(dep) arrive = inzet_terplaatse_datumtijd\n"
   ]
  },
  {
   "cell_type": "code",
   "execution_count": null,
   "metadata": {},
   "outputs": [],
   "source": [
    "locations"
   ]
  },
  {
   "cell_type": "code",
   "execution_count": null,
   "metadata": {
    "scrolled": false
   },
   "outputs": [],
   "source": [
    "print(\"the shape of the incidents dataset is {}\".format(df_in.shape))\n",
    "print(\"the shape of the deployment dataset is {}\".format(df_dep.shape))\n",
    "print(\"the time span of the data set incidents is: {}\".format((min(df_in['dim_datum_datum']), max(df_in['dim_datum_datum']))))\n",
    "print(print(\"the time span of the data set deploy is: {}\".format((min(df_dep['inzet_gealarmeerd_datumtijd']), \n",
    "                                                                  max(df_dep['inzet_gealarmeerd_datumtijd'])))))\n",
    "\n",
    "incidents_df_in = list(set(df_in['dim_incident_id'].unique()) - set(df_dep['hub_incident_id'].unique()))\n",
    "incidents_df_dep = list(set(df_dep['hub_incident_id'].unique()) - set(df_in['dim_incident_id'].unique()))\n",
    "\n",
    "print('the following id are only at incidents {}'.format(incidents_df_in))\n",
    "print('the following id are only at deploy {}'.format(len(incidents_df_dep)))"
   ]
  },
  {
   "cell_type": "code",
   "execution_count": null,
   "metadata": {},
   "outputs": [],
   "source": [
    "df_in.describe().T.dropna()[['mean', 'std', 'min', 'max']]"
   ]
  },
  {
   "cell_type": "code",
   "execution_count": null,
   "metadata": {},
   "outputs": [],
   "source": [
    "df_dep.describe().T.dropna()[['mean', 'std', 'min', 'max']]\n"
   ]
  },
  {
   "cell_type": "markdown",
   "metadata": {},
   "source": [
    "# EDA on the components of the response time"
   ]
  },
  {
   "cell_type": "code",
   "execution_count": null,
   "metadata": {
    "scrolled": false
   },
   "outputs": [],
   "source": [
    "#(in) incident starts = dim_incident_start_datumtijd\n",
    "#(in) incident finish = dim_incident_eind_datumtijd\n",
    "#(dep) alarm is activated = inzet_gealarmeerd_datumtijd\n",
    "#(dep) leave = inzet_uitgerukt_datumtijd\n",
    "#(dep) arrive = inzet_terplaatse_datumtijd"
   ]
  },
  {
   "cell_type": "code",
   "execution_count": null,
   "metadata": {},
   "outputs": [],
   "source": [
    "def pre_process_data(df_in, df_dep, locations):\n",
    "    \n",
    "    inProj  = Proj(\"+init=EPSG:28992\", preserve_units=True)\n",
    "    outProj = Proj(\"+init=EPSG:4326\")\n",
    "\n",
    "    def projections(x,y, inProj, outProj):\n",
    "        \"\"\"\n",
    "        in this funtion we transform the data from the corrdinate system to gps\n",
    "        \"\"\"\n",
    "        longitd, latitud = transform(inProj,outProj,x,y)\n",
    "        return longitd, latitud\n",
    "    \n",
    "    def haversine(lon1, lat1, lon2, lat2):\n",
    "        \"\"\"\n",
    "        Calculate the great circle distance between two points\n",
    "        on the earth (specified in decimal degrees)\n",
    "        \"\"\"\n",
    "        # convert decimal degrees to radians\n",
    "        lon1, lat1, lon2, lat2 = map(radians, [lon1, lat1, lon2, lat2])\n",
    "\n",
    "        # haversine formula\n",
    "        dlon = lon2 - lon1\n",
    "        dlat = lat2 - lat1\n",
    "        a = (sin(dlat/2))**2 + cos(lat1) * cos(lat2) * (sin(dlon/2))**2\n",
    "        c = 2 * atan2(sqrt(a), sqrt(1-a))\n",
    "        r = 6371 # Radius of earth in kilometers. Use 3956 for miles\n",
    "        return c * r\n",
    "    \n",
    "    \n",
    "    keep_in = ['dim_incident_id','st_x', 'st_y', 'dim_incident_incident_type', 'inc_dim_object_naam', \n",
    "               'dim_incident_start_datumtijd', 'dim_incident_eind_datumtijd', 'dim_prioriteit_prio']\n",
    "    \n",
    "    time_stamps = ['dim_incident_start_datumtijd', 'dim_incident_eind_datumtijd', 'inzet_gealarmeerd_datumtijd',\n",
    "                  'inzet_uitgerukt_datumtijd', 'inzet_terplaatse_datumtijd']\n",
    "    \n",
    "    keep_dep = ['hub_incident_id', 'inzet_uitgerukt_datumtijd', 'inzet_gealarmeerd_datumtijd','inzet_terplaatse_datumtijd', 'voertuig_groep',\n",
    "            'kazerne_groep', 'inzet_kazerne_naam']\n",
    "    \n",
    "    df_in = df_in[keep_in]\n",
    "    df_dep = df_dep[keep_dep]\n",
    "    \n",
    "    M = df_dep.merge(df_in, left_on='hub_incident_id', right_on='dim_incident_id', how = 'inner')\n",
    "    #Double check this merging process!!!!!!!!!!!!!!!!\n",
    "    M['inzet_kazerne_naam'] = M['inzet_kazerne_naam'].apply(lambda x: x.lower())\n",
    "    locations['kazerne'] = locations['kazerne'].apply(lambda x: x.lower())\n",
    "    M = locations.merge(M, left_on='kazerne', right_on='inzet_kazerne_naam', how = 'inner')\n",
    "    M['lon_in'], M['lat_in'] = np.vectorize(projections)(M['st_x'], M['st_y'], inProj, outProj)\n",
    "    M['haversine_distance (Km)'] = np.vectorize(haversine)(M['lon'], M['lat'], M['lon_in'], M['lat_in'])\n",
    "    \n",
    "    for date in time_stamps:\n",
    "        M[date] = pd.to_datetime(M[date])\n",
    "    \n",
    "    M['turn out time (seconds)'] = (M['inzet_uitgerukt_datumtijd'] - M['inzet_gealarmeerd_datumtijd']).astype('timedelta64[s]')\n",
    "    M['travel time (seconds)'] = (M['inzet_terplaatse_datumtijd'] - M['inzet_uitgerukt_datumtijd']).astype('timedelta64[s]')\n",
    "    M['response time (seconds)'] = M['turn out time (seconds)'] + M['travel time (seconds)'] + M['dispatch (seconds)']\n",
    "    M['Average Speed (Km/h)'] = M['haversine_distance (Km)']/(M['travel time (seconds)']/(60*60))\n",
    "    \n",
    "    M = M[(M['Average Speed (Km/h)']>0) & (M['Average Speed (Km/h)']<150)]\n",
    "    M = M[M['turn out time (seconds)']>0]\n",
    "    \n",
    "    return M.replace([np.inf, -np.inf], np.nan).dropna()\n",
    "\n",
    "M = pre_process_data(df_in, df_dep, locations)\n",
    "M.T"
   ]
  },
  {
   "cell_type": "markdown",
   "metadata": {},
   "source": [
    "data issues:\n",
    "(a) no all the stations have dispatch time\n",
    "(b) no all the stations (kazerne) are in the deploy dataset (inzet_kazerne_naam) ['anton', 'dirk', 'hendrik', 'ijsbrand', 'nico', 'osdorp', 'pieter', 'teunis', 'victor', 'willem', 'zebra'] \n",
    "(c) negrative time differences. E.g, activate the alarm before the calles was made\n",
    "\n"
   ]
  },
  {
   "cell_type": "code",
   "execution_count": null,
   "metadata": {
    "scrolled": false
   },
   "outputs": [],
   "source": [
    "# Here, there are a couple of cases where the x and y coordinates are 0\n",
    "M.describe().T"
   ]
  },
  {
   "cell_type": "code",
   "execution_count": null,
   "metadata": {},
   "outputs": [],
   "source": [
    "#General satistics, this information can be used as an input ot the simulation model\n",
    "M.groupby(['kazerne', 'dim_prioriteit_prio'], as_index=False).agg({'haversine_distance (Km)':['mean','std', 'count'],\n",
    "                                                                  'turn out time (seconds)':['mean','std', 'count'],\n",
    "                                                                  'travel time (seconds)':['mean','std', 'count'],\n",
    "                                                                  'response time (seconds)':['mean','std', 'count'],\n",
    "                                                                  'Average Speed (Km/h)':['mean','std', 'count']})"
   ]
  },
  {
   "cell_type": "code",
   "execution_count": null,
   "metadata": {
    "scrolled": true
   },
   "outputs": [],
   "source": [
    "def plot_dist(df, var, kazerne, norm_val, alpha):\n",
    "    \"\"\"\n",
    "    Funtion to plot the time and speed distributions per station\n",
    "    \n",
    "    Parameters:\n",
    "    df: dataFrame\n",
    "    var: the variables to be plotted from M\n",
    "    \"\"\"\n",
    "    \n",
    "    df = df[(df['kazerne']==kazerne)]\n",
    "    priority_color = {1:'#d73027', 2:'#91bfdb'}\n",
    "    \n",
    "    fig, ax = plt.subplots(figsize=(14,10))\n",
    "    norm  = 'N'\n",
    "    \n",
    "    for dim_prioriteit_prio in [1,2]:\n",
    "        df_temp = df[df['dim_prioriteit_prio']==dim_prioriteit_prio]\n",
    "        # From https://docs.scipy.org/doc/scipy/reference/generated/scipy.stats.normaltest.html\n",
    "        k2, p = stats.normaltest(df_temp[var])\n",
    "        if p<alpha: norm = 'N-N'\n",
    "        norm_val = norm_val.append(pd.Series([var, kazerne, dim_prioriteit_prio, p, norm]), ignore_index=True)\n",
    "        ax = sns.distplot(df_temp[var], bins=100, color=priority_color[dim_prioriteit_prio] ,\n",
    "                          label = 'Priority {} ({})'.format(dim_prioriteit_prio, norm))\n",
    "    \n",
    "    \n",
    "    ax.set(xlabel=var, ylabel='', \n",
    "           title = 'Histogram and GKD of {} in the station: {}'.format(var, kazerne, dim_prioriteit_prio))\n",
    "    fig.legend(loc='right')\n",
    "    \n",
    "    fig.savefig(\"figures/hist_ {}_{}.png\".format(var.replace(\"/\", \"\"), kazerne))\n",
    "    \n",
    "    return norm_val\n",
    "    \n",
    "var = ['haversine_distance (Km)', 'turn out time (seconds)', \n",
    "       'response time (seconds)', 'Average Speed (Km/h)']\n",
    "\n",
    "norm_val = pd.DataFrame()\n",
    "alpha = 1e-3\n",
    "for kazerne in M['kazerne'].unique():\n",
    "    for v in var:\n",
    "        norm_val = plot_dist(M, v, kazerne, norm_val, alpha)\n",
    "        \n",
    "norm_val.columns = ['var', 'kazerne', 'dim_prioriteit_prio', 'p', 'Normal']\n"
   ]
  },
  {
   "cell_type": "code",
   "execution_count": null,
   "metadata": {},
   "outputs": [],
   "source": [
    "\n"
   ]
  },
  {
   "cell_type": "code",
   "execution_count": null,
   "metadata": {},
   "outputs": [],
   "source": []
  },
  {
   "cell_type": "code",
   "execution_count": null,
   "metadata": {},
   "outputs": [],
   "source": []
  }
 ],
 "metadata": {
  "kernelspec": {
   "display_name": "Python 3",
   "language": "python",
   "name": "python3"
  },
  "language_info": {
   "codemirror_mode": {
    "name": "ipython",
    "version": 3
   },
   "file_extension": ".py",
   "mimetype": "text/x-python",
   "name": "python",
   "nbconvert_exporter": "python",
   "pygments_lexer": "ipython3",
   "version": "3.6.4"
  }
 },
 "nbformat": 4,
 "nbformat_minor": 2
}
