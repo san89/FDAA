{
 "cells": [
  {
   "cell_type": "markdown",
   "metadata": {},
   "source": [
    "# Test classes and functions in FDAASimulationEngine"
   ]
  },
  {
   "cell_type": "code",
   "execution_count": null,
   "metadata": {},
   "outputs": [],
   "source": [
    "import numpy as np\n",
    "import pandas as pd\n",
    "import matplotlib.pyplot as plt\n",
    "import sys\n",
    "sys.path.append(\"../\")\n",
    "from FDAASimulationEngine import SimulationEngine, DemandLocation, Agent\n",
    "from utils import pre_process_station_name\n",
    "\n",
    "plt.style.use('dark_background')"
   ]
  },
  {
   "cell_type": "code",
   "execution_count": null,
   "metadata": {},
   "outputs": [],
   "source": [
    "incidents = pd.read_csv(\"../Data/incidenten_2017.csv\", sep=\";\", decimal=\",\")\n",
    "deployments = pd.read_csv(\"../Data/inzetten_2017.csv\", sep=\";\", decimal=\",\")\n",
    "station_locations = pd.read_excel('../Data/kazernepositie en voertuigen.xlsx', sheet_name='adressen')\n",
    "station_locations['kazerne'] = station_locations['kazerne'].apply(lambda x: pre_process_station_name(x))\n",
    "from_post_to_coor = pd.read_csv('../Data/nl_postal_codes.csv', encoding = \"ISO-8859-1\")\n",
    "from_post_to_coor['Postal Code'] = from_post_to_coor['Postal Code'].apply(lambda x: str(x))\n",
    "vehicle_allocation = pd.read_excel('../Data/vehicle_allocation.xlsx')"
   ]
  },
  {
   "cell_type": "code",
   "execution_count": null,
   "metadata": {},
   "outputs": [],
   "source": [
    "sim = SimulationEngine(demand_location_definition=\"postcode_digits\", verbose=True)"
   ]
  },
  {
   "cell_type": "code",
   "execution_count": null,
   "metadata": {},
   "outputs": [],
   "source": [
    "sim.fit_parameters(incidents, \n",
    "                   deployments, \n",
    "                   from_post_to_coor,\n",
    "                   station_locations,\n",
    "                   vehicle_allocation,\n",
    "                   time_of_day_filter=(10, 20))\n"
   ]
  },
  {
   "cell_type": "markdown",
   "metadata": {},
   "source": [
    "# Main self variables"
   ]
  },
  {
   "cell_type": "code",
   "execution_count": null,
   "metadata": {},
   "outputs": [],
   "source": [
    "# Variable to manipulate the vehicle status in the simulation\n",
    "sim.vehicles_status.head()"
   ]
  },
  {
   "cell_type": "code",
   "execution_count": null,
   "metadata": {},
   "outputs": [],
   "source": [
    "# All teh time related parameters are calculated from this DataFrame\n",
    "sim.merged_log.describe().T"
   ]
  },
  {
   "cell_type": "code",
   "execution_count": null,
   "metadata": {},
   "outputs": [],
   "source": [
    "# Dictinary white different aggreation levels to calculate the vehicle time related parameters\n",
    "sim.response_time_parameters['level_3']"
   ]
  },
  {
   "cell_type": "code",
   "execution_count": null,
   "metadata": {},
   "outputs": [],
   "source": [
    "# Expected on scene time in minute by event type\n",
    "sim.parameters_on_scene_time"
   ]
  },
  {
   "cell_type": "markdown",
   "metadata": {},
   "source": [
    "### Test incident sampling"
   ]
  },
  {
   "cell_type": "code",
   "execution_count": null,
   "metadata": {},
   "outputs": [],
   "source": [
    "sim.initialize_demand_locations()"
   ]
  },
  {
   "cell_type": "code",
   "execution_count": null,
   "metadata": {
    "scrolled": false
   },
   "outputs": [],
   "source": [
    "incident = sim.generate_incident()\n",
    "print(incident.start_time)\n",
    "print(incident.type)\n",
    "print(incident.priority)\n",
    "print(incident.required_vehicles)\n",
    "print(incident.location)\n",
    "print(list(incident.location_coord))\n",
    "print(incident.on_secene_duration)"
   ]
  },
  {
   "cell_type": "code",
   "execution_count": null,
   "metadata": {
    "scrolled": false
   },
   "outputs": [],
   "source": [
    "# agent = Agent()\n",
    "# sim.set_agent(agent)\n"
   ]
  },
  {
   "cell_type": "code",
   "execution_count": null,
   "metadata": {},
   "outputs": [],
   "source": [
    "sim.step()"
   ]
  },
  {
   "cell_type": "code",
   "execution_count": null,
   "metadata": {},
   "outputs": [],
   "source": [
    "# N = len(incidents)\n",
    "# print(\"{} incidents in 2017.\".format(N))\n",
    "\n",
    "# T = 365*24*60 # minutes"
   ]
  },
  {
   "cell_type": "code",
   "execution_count": null,
   "metadata": {},
   "outputs": [],
   "source": [
    "# sim.verbose = False\n",
    "# sim.simulate(simulation_time=T)"
   ]
  },
  {
   "cell_type": "markdown",
   "metadata": {},
   "source": [
    "### Test DemandLocation"
   ]
  },
  {
   "cell_type": "code",
   "execution_count": null,
   "metadata": {},
   "outputs": [],
   "source": [
    "sim.initialize_demand_locations()"
   ]
  },
  {
   "cell_type": "code",
   "execution_count": null,
   "metadata": {},
   "outputs": [],
   "source": [
    "sim.demand_locations[\"1011\"]"
   ]
  },
  {
   "cell_type": "code",
   "execution_count": null,
   "metadata": {},
   "outputs": [],
   "source": [
    "sim.demand_locations[\"1011\"].id"
   ]
  },
  {
   "cell_type": "code",
   "execution_count": null,
   "metadata": {},
   "outputs": [],
   "source": [
    "sim.demand_locations[\"1011\"].incident_type_names"
   ]
  },
  {
   "cell_type": "code",
   "execution_count": null,
   "metadata": {},
   "outputs": [],
   "source": [
    "sim.demand_locations[\"1011\"].incident_type_probs"
   ]
  },
  {
   "cell_type": "code",
   "execution_count": null,
   "metadata": {},
   "outputs": [],
   "source": [
    "sim.demand_locations[\"1012\"].sample_incident_type()"
   ]
  },
  {
   "cell_type": "code",
   "execution_count": null,
   "metadata": {},
   "outputs": [],
   "source": [
    "# check if probabilities match out: \n",
    "N = 10000\n",
    "np.sum(np.array([sim.demand_locations[\"1011\"].sample_incident_type() for i in range(N)]) == \"Assistentie Ambulance\") / N"
   ]
  },
  {
   "cell_type": "code",
   "execution_count": null,
   "metadata": {},
   "outputs": [],
   "source": [
    "inc_type = sim.demand_locations[\"1012\"].sample_incident_type()\n",
    "sim.demand_locations[\"1012\"].sample_building_function(inc_type)"
   ]
  },
  {
   "cell_type": "markdown",
   "metadata": {},
   "source": [
    "## Test deployment"
   ]
  },
  {
   "cell_type": "code",
   "execution_count": null,
   "metadata": {},
   "outputs": [],
   "source": [
    "# Test for the response time\n",
    "# From the agent\n",
    "station = 'aalsmeer'\n",
    "vehicle_type = [11, 12, 13]\n",
    "#parameters from the incident\n",
    "incident_priority = 2\n",
    "incident_location = [52.2538, 4.76889]\n",
    "on_scene_time = 10288/60"
   ]
  },
  {
   "cell_type": "code",
   "execution_count": null,
   "metadata": {},
   "outputs": [],
   "source": [
    "sim.verbose = False\n",
    "sim.get_vehicle_simulated_values(incident_priority, incident_location, vehicle_type, on_scene_time)"
   ]
  },
  {
   "cell_type": "code",
   "execution_count": null,
   "metadata": {},
   "outputs": [],
   "source": []
  },
  {
   "cell_type": "code",
   "execution_count": null,
   "metadata": {},
   "outputs": [],
   "source": []
  },
  {
   "cell_type": "code",
   "execution_count": null,
   "metadata": {},
   "outputs": [],
   "source": []
  }
 ],
 "metadata": {
  "kernelspec": {
   "display_name": "Python 3",
   "language": "python",
   "name": "python3"
  },
  "language_info": {
   "codemirror_mode": {
    "name": "ipython",
    "version": 3
   },
   "file_extension": ".py",
   "mimetype": "text/x-python",
   "name": "python",
   "nbconvert_exporter": "python",
   "pygments_lexer": "ipython3",
   "version": "3.6.4"
  }
 },
 "nbformat": 4,
 "nbformat_minor": 2
}
