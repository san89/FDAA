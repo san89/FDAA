{
 "cells": [
  {
   "cell_type": "markdown",
   "metadata": {},
   "source": [
    "# Here a quick scan from the data from the fire-brigate department"
   ]
  },
  {
   "cell_type": "code",
   "execution_count": null,
   "metadata": {},
   "outputs": [],
   "source": [
    "import pandas as pd\n",
    "import numpy as np\n",
    "from math import radians, cos, sin, asin, sqrt,atan2\n",
    "import seaborn as sns\n",
    "import matplotlib.pyplot as plt\n",
    "from scipy import stats\n",
    "from scipy.stats import norm\n",
    "import os\n",
    "from pyproj import Proj\n",
    "from scipy import stats\n",
    "\n",
    "import sys\n",
    "sys.path.append(\"../\")\n",
    "from FDAASimulationEngine import SimulationEngine\n",
    "from utils import pre_process_station_name"
   ]
  },
  {
   "cell_type": "markdown",
   "metadata": {},
   "source": [
    "# Function Utils"
   ]
  },
  {
   "cell_type": "markdown",
   "metadata": {},
   "source": [
    "## Call the data sets"
   ]
  },
  {
   "cell_type": "code",
   "execution_count": null,
   "metadata": {},
   "outputs": [],
   "source": [
    "# global station_locations, response_time_parameters \n",
    "# response_time_parameters = {}"
   ]
  },
  {
   "cell_type": "code",
   "execution_count": null,
   "metadata": {},
   "outputs": [],
   "source": [
    "incidents = pd.read_csv('..\\Data\\incidenten_2017.csv', sep=';', decimal=',')\n",
    "deployments = pd.read_csv('..\\Data\\inzetten_2017.csv', sep=';', decimal=',')\n",
    "station_locations = pd.read_excel('..\\Data\\kazernepositie en voertuigen.xlsx', sheet_name='adressen')\n",
    "station_locations['kazerne'] = station_locations['kazerne'].apply(lambda x: pre_process_station_name(x))"
   ]
  },
  {
   "cell_type": "markdown",
   "metadata": {},
   "source": [
    "# 1. General assesments of the datasets quality\n",
    "\n",
    "There are many incedents that are only on the deploy dataset. These incidents are demostrations. Thus, probably is better not to take them into account"
   ]
  },
  {
   "cell_type": "code",
   "execution_count": null,
   "metadata": {
    "scrolled": false
   },
   "outputs": [],
   "source": [
    "print(\"the shape of the incidents dataset is {}\".format(incidents.shape))\n",
    "print(\"the shape of the deployment dataset is {}\".format(deployments.shape))\n",
    "print(\"the time span of the data set incidents is: {}\".format((min(incidents['dim_datum_datum']), \n",
    "                                                               max(incidents['dim_datum_datum']))))\n",
    "\n",
    "print(print(\"the time span of the data set deploy is: {}\".format((min(deployments['inzet_gealarmeerd_datumtijd']), \n",
    "                                                                  max(deployments['inzet_gealarmeerd_datumtijd'])))))\n",
    "\n",
    "incidents_df_in = list(set(incidents['dim_incident_id'].unique()) - set(deployments['hub_incident_id'].unique()))\n",
    "incidents_df_dep = list(set(deployments['hub_incident_id'].unique()) - set(incidents['dim_incident_id'].unique()))\n",
    "\n",
    "print('the following id are only at incidents {}'.format(incidents_df_in))\n",
    "print('the following id are only at deploy {}'.format(len(incidents_df_dep)))"
   ]
  },
  {
   "cell_type": "markdown",
   "metadata": {},
   "source": [
    "# 2. EDA of the response time components"
   ]
  },
  {
   "cell_type": "markdown",
   "metadata": {
    "scrolled": false
   },
   "source": [
    "## 2.1 Relevant time slots for the response time\n",
    "\n",
    "In order to calculate the different components of the response time, we considered the folling information:\n",
    "\n",
    "\n",
    "(in) incident starts = dim_incident_start_datumtijd\n",
    "\n",
    "(in) incident finish = dim_incident_eind_datumtijd\n",
    "\n",
    "(dep) alarm is activated = inzet_gealarmeerd_datumtijd\n",
    "\n",
    "(dep) leave = inzet_uitgerukt_datumtijd\n",
    "\n",
    "(dep) arrive = inzet_terplaatse_datumtijd"
   ]
  },
  {
   "cell_type": "code",
   "execution_count": null,
   "metadata": {
    "scrolled": false
   },
   "outputs": [],
   "source": [
    "sim = SimulationEngine(verbose=False)\n",
    "sim.fit_deployment_parameters(incidents, deployments, station_locations)\n",
    "M = sim.merged_log"
   ]
  },
  {
   "cell_type": "code",
   "execution_count": null,
   "metadata": {},
   "outputs": [],
   "source": [
    "M.describe().T"
   ]
  },
  {
   "cell_type": "markdown",
   "metadata": {},
   "source": [
    "data issues:\n",
    "\n",
    "(a) no all the stations have dispatch time\n",
    "\n",
    "(b) There are some stations with different numbering. E.g, aalsmeer vrijwillig 1, aalsmeer vrijwillig 2. We will take only the first word for the deplyment dataset.\n",
    "\n",
    "(c) negrative time differences. E.g, activate the alarm before the calles was made\n",
    "\n",
    "(d) the station DRIEMOND does not have dispatch time\n",
    "\n",
    "(e) is the end of the incident defined when the incident is solved in place or when the trucks are back into the fire station?\n",
    "\n",
    "(f) The on scene deployment time depends on every deployed vehicle. Is reasonable to calculate the on scene deployment only with the TS vehicles?\n",
    "\n"
   ]
  },
  {
   "cell_type": "code",
   "execution_count": null,
   "metadata": {},
   "outputs": [],
   "source": [
    "# These are the vehicles more frquently deployed \n",
    "vehicles_type = ['TS', 'RV', 'WO', 'HV']\n",
    "variables_to_plot = variable = ['turn out time (min)', 'travel time (min)', \n",
    "                                'response time (min)', 'Average Speed (Km/h)']"
   ]
  },
  {
   "cell_type": "markdown",
   "metadata": {},
   "source": [
    "## 2.2 Distributions at level_1\n",
    "\n",
    "Most of the combinations, car_type, fire_station, and priority_level, don't have enough observations to be statistical significant (n>20). We address this problem later with the level concept where 1 is the less aggregated and 3 is the most aggregated. AT level 3 we guarantee that n>20 for the most frequently used vehicles."
   ]
  },
  {
   "cell_type": "code",
   "execution_count": null,
   "metadata": {
    "scrolled": true
   },
   "outputs": [],
   "source": [
    "def PDF_grid_station_level_one(M, vehicles_type, variable):\n",
    "    \"\"\"\n",
    "    plot the the kernel aproximations and histograms of the level one variables.\n",
    "    \n",
    "    Parameters\n",
    "    ------------------------------\n",
    "    M: dataframe wit the merged information of the incidents, deployment, and locations datasets.\n",
    "    vehicles_type: list with the vehicles to be considered\n",
    "    variable: string with the variable to be plotted\n",
    "    \n",
    "    Return\n",
    "    -----------------------------\n",
    "    figure that is save in the 'figures' folder\n",
    "    \n",
    "    \"\"\"\n",
    "    M = M[M['voertuig_groep'].isin(vehicles_type) & (M['dim_prioriteit_prio']<3)]\n",
    "    g = sns.FacetGrid(M, row=\"kazerne\",  col=\"voertuig_groep\", hue=\"dim_prioriteit_prio\")\n",
    "    g = (g.map(sns.distplot, variable, bins = 100).add_legend())\n",
    "    g.savefig(\"../figures/PDF_detail_station (level_1)_{}.png\".format(variable.replace(\"/\", \"\")))\n",
    "\n",
    "\n",
    "\n",
    "# for variable in variables_to_plot:\n",
    "#     PDF_grid_station_level_one(M, vehicles_type, variable)\n",
    "    "
   ]
  },
  {
   "cell_type": "markdown",
   "metadata": {},
   "source": [
    "## 2.3 Distributions at level_2\n",
    "\n",
    "Better distributions. There is a difference in the average speed when tehre are different priorities.\n"
   ]
  },
  {
   "cell_type": "code",
   "execution_count": null,
   "metadata": {
    "scrolled": false
   },
   "outputs": [],
   "source": [
    "def PDF_grid_station_level_two(M, vehicles_type, variable):\n",
    "    \"\"\"\n",
    "    plot the the kernel aproximations and histograms of the level one variables.\n",
    "    \n",
    "    Parameters\n",
    "    ------------------------------\n",
    "    M: dataframe wit the merged information of the incidents, deployment, and locations datasets.\n",
    "    vehicles_type: list with the vehicles to be considered\n",
    "    variable: string with the variable to be plotted\n",
    "    \n",
    "    Return\n",
    "    -----------------------------\n",
    "    figure that is save in the 'figures' folder\n",
    "    \n",
    "    \"\"\"\n",
    "    \n",
    "    M = M[M['voertuig_groep'].isin(vehicles_type) & (M['dim_prioriteit_prio']<3)]\n",
    "    \n",
    "    g = sns.FacetGrid(M, col=\"voertuig_groep\", hue=\"dim_prioriteit_prio\")\n",
    "    g = (g.map(sns.distplot, variable, bins = 100).add_legend())\n",
    "    g.savefig(\"../figures/PDF_vehicles_type (level_2)_{}.png\".format(variable.replace(\"/\", \"\")))\n",
    "    \n",
    "\n",
    "for variable in variables_to_plot:\n",
    "    PDF_grid_station_level_two(M, vehicles_type, variable)"
   ]
  },
  {
   "cell_type": "markdown",
   "metadata": {},
   "source": [
    "## 2.4 Distributions level 2\n",
    "\n",
    "Most aggregated distribution level. The turnout time takes the same values quite often. This is not normal in a continuous variable. Probably is better to understand why this particular behavior."
   ]
  },
  {
   "cell_type": "code",
   "execution_count": null,
   "metadata": {
    "scrolled": false
   },
   "outputs": [],
   "source": [
    "def PDF_grid_station_level_three(M, vehicles_type, variable):\n",
    "    \"\"\"\n",
    "    plot the the kernel aproximations and histograms of the level one variables.\n",
    "    \n",
    "    Parameters\n",
    "    ------------------------------\n",
    "    M: dataframe wit the merged information of the incidents, deployment, and locations datasets.\n",
    "    vehicles_type: list with the vehicles to be considered\n",
    "    variable: string with the variable to be plotted\n",
    "    \n",
    "    Return\n",
    "    -----------------------------\n",
    "    figure that is save in the 'figures' folder\n",
    "    \n",
    "    \"\"\"\n",
    "    M = M[M['voertuig_groep'].isin(vehicles_type) & (M['dim_prioriteit_prio']<3)]\n",
    "    g = sns.FacetGrid(M, col=\"voertuig_groep\")\n",
    "    g = g.map(sns.distplot, variable, bins = 100)\n",
    "    g.savefig(\"../figures/PDF_vehicles_type (level_3)_{}.png\".format(variable.replace(\"/\", \"\")))\n",
    "    \n",
    "\n",
    "for variable in variables_to_plot:\n",
    "    PDF_grid_station_level_three(M, vehicles_type, variable)\n"
   ]
  },
  {
   "cell_type": "markdown",
   "metadata": {},
   "source": [
    "## 2.5 On scene distribution \n",
    "\n",
    "This variable has an especial chapter because is a property of the incident itself."
   ]
  },
  {
   "cell_type": "code",
   "execution_count": null,
   "metadata": {
    "scrolled": false
   },
   "outputs": [],
   "source": [
    "def plot_dist_on_scene_duration(M):\n",
    "#     g = sns.FacetGrid(M, col=\"dim_incident_incident_type\", hue=\"dim_prioriteit_prio\", col_wrap=4)\n",
    "    g = sns.FacetGrid(M, col=\"dim_incident_incident_type\", col_wrap=3)\n",
    "    g = (g.map(sns.distplot, 'on scene duration (min)', bins = 100).add_legend())\n",
    "    g.savefig(\"../figures/PDF_on_scene_duration.png\".format(variable.replace(\"/\", \"\")))\n",
    "\n",
    "plot_dist_on_scene_duration(M)"
   ]
  },
  {
   "cell_type": "code",
   "execution_count": null,
   "metadata": {},
   "outputs": [],
   "source": []
  }
 ],
 "metadata": {
  "kernelspec": {
   "display_name": "Python 3",
   "language": "python",
   "name": "python3"
  },
  "language_info": {
   "codemirror_mode": {
    "name": "ipython",
    "version": 3
   },
   "file_extension": ".py",
   "mimetype": "text/x-python",
   "name": "python",
   "nbconvert_exporter": "python",
   "pygments_lexer": "ipython3",
   "version": "3.6.4"
  }
 },
 "nbformat": 4,
 "nbformat_minor": 2
}
