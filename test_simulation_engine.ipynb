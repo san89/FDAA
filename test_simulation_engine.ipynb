{
 "cells": [
  {
   "cell_type": "markdown",
   "metadata": {},
   "source": [
    "# Test classes and functions in FDAASimulationEngine"
   ]
  },
  {
   "cell_type": "code",
   "execution_count": 1,
   "metadata": {},
   "outputs": [],
   "source": [
    "import numpy as np\n",
    "import pandas as pd\n",
    "import matplotlib.pyplot as plt\n",
    "\n",
    "from FDAASimulationEngine import SimulationEngine, DemandLocation, Agent\n",
    "\n",
    "plt.style.use('dark_background')"
   ]
  },
  {
   "cell_type": "code",
   "execution_count": 2,
   "metadata": {},
   "outputs": [
    {
     "name": "stderr",
     "output_type": "stream",
     "text": [
      "C:\\Users\\s100385\\Anaconda3\\lib\\site-packages\\IPython\\core\\interactiveshell.py:2728: DtypeWarning: Columns (4,8) have mixed types. Specify dtype option on import or set low_memory=False.\n",
      "  interactivity=interactivity, compiler=compiler, result=result)\n"
     ]
    }
   ],
   "source": [
    "incidents = pd.read_csv(\"../Data/incidenten_2017.csv\", sep=\";\", decimal=\",\")\n",
    "deployments = pd.read_csv(\"../Data/inzetten_2017.csv\", sep=\";\", decimal=\",\")"
   ]
  },
  {
   "cell_type": "code",
   "execution_count": 3,
   "metadata": {},
   "outputs": [],
   "source": [
    "sim = SimulationEngine(demand_location_definition=\"postcode_digits\")"
   ]
  },
  {
   "cell_type": "code",
   "execution_count": 4,
   "metadata": {},
   "outputs": [
    {
     "name": "stdout",
     "output_type": "stream",
     "text": [
      "Only considering incidents between 10 and 20 O'clock.\n",
      "1 incident(s) removed because there were no corresponding deployments.\n",
      "Incident parameters are obtained from the data.\n"
     ]
    }
   ],
   "source": [
    "sim.fit_incident_parameters(incidents,\n",
    "                            deployments,\n",
    "                            time_of_day_filter=(10, 20))"
   ]
  },
  {
   "cell_type": "markdown",
   "metadata": {},
   "source": [
    "### Test incident sampling"
   ]
  },
  {
   "cell_type": "code",
   "execution_count": 5,
   "metadata": {},
   "outputs": [],
   "source": [
    "sim.initialize_demand_locations()"
   ]
  },
  {
   "cell_type": "code",
   "execution_count": null,
   "metadata": {},
   "outputs": [],
   "source": [
    "d = {\"a\" : {\"1\" : 7, \"2\" : 8},\n",
    "     \"b\" : {\"1\" : 9, \"2\" : 10}}\n",
    "\n",
    "list(d[\"a\"].keys())\n",
    "list(d[\"a\"].values())"
   ]
  },
  {
   "cell_type": "code",
   "execution_count": null,
   "metadata": {},
   "outputs": [],
   "source": [
    "incident = sim.generate_incident()\n",
    "print(incident.start_time)\n",
    "print(incident.type)\n",
    "print(incident.priority)\n",
    "print(incident.required_vehicles)\n",
    "print(incident.location)"
   ]
  },
  {
   "cell_type": "code",
   "execution_count": null,
   "metadata": {},
   "outputs": [],
   "source": [
    "agent = Agent()\n",
    "sim.set_agent(agent)\n",
    "sim.step()"
   ]
  },
  {
   "cell_type": "code",
   "execution_count": null,
   "metadata": {},
   "outputs": [],
   "source": [
    "N = len(incidents)\n",
    "print(\"{} incidents in 2017.\".format(N))\n",
    "\n",
    "T = 365*24*60 # minutes"
   ]
  },
  {
   "cell_type": "code",
   "execution_count": null,
   "metadata": {},
   "outputs": [],
   "source": [
    "sim.verbose = False\n",
    "sim.simulate(simulation_time=T)"
   ]
  },
  {
   "cell_type": "markdown",
   "metadata": {},
   "source": [
    "### Test DemandLocation"
   ]
  },
  {
   "cell_type": "code",
   "execution_count": 6,
   "metadata": {},
   "outputs": [],
   "source": [
    "sim.initialize_demand_locations()"
   ]
  },
  {
   "cell_type": "code",
   "execution_count": 7,
   "metadata": {},
   "outputs": [
    {
     "data": {
      "text/plain": [
       "<FDAASimulationEngine.DemandLocation at 0x1b738eec4a8>"
      ]
     },
     "execution_count": 7,
     "metadata": {},
     "output_type": "execute_result"
    }
   ],
   "source": [
    "sim.demand_locations[\"1011\"]"
   ]
  },
  {
   "cell_type": "code",
   "execution_count": 8,
   "metadata": {},
   "outputs": [
    {
     "data": {
      "text/plain": [
       "'1011'"
      ]
     },
     "execution_count": 8,
     "metadata": {},
     "output_type": "execute_result"
    }
   ],
   "source": [
    "sim.demand_locations[\"1011\"].id"
   ]
  },
  {
   "cell_type": "code",
   "execution_count": 9,
   "metadata": {},
   "outputs": [
    {
     "data": {
      "text/plain": [
       "array(['Assistentie Ambulance', 'Assistentie Politie', 'Binnenbrand',\n",
       "       'Brandgerucht / nacontrole', 'Buitenbrand', 'Dier te water',\n",
       "       'Herbezetting', 'Hulpverlening Dieren', 'Hulpverlening algemeen',\n",
       "       'Hulpverlening water algemeen', 'Liftopsluiting',\n",
       "       'Meten / overlast / verontreiniging', 'NVT',\n",
       "       'OMS / automatische melding', 'Persoon te water', 'Reanimeren',\n",
       "       'Storm en Waterschade', 'Voertuig te water'], dtype=object)"
      ]
     },
     "execution_count": 9,
     "metadata": {},
     "output_type": "execute_result"
    }
   ],
   "source": [
    "sim.demand_locations[\"1011\"].incident_type_names"
   ]
  },
  {
   "cell_type": "code",
   "execution_count": 10,
   "metadata": {},
   "outputs": [
    {
     "data": {
      "text/plain": [
       "[0.10465116279069768,\n",
       " 0.046511627906976744,\n",
       " 0.03488372093023256,\n",
       " 0.08139534883720931,\n",
       " 0.023255813953488372,\n",
       " 0.0,\n",
       " 0.0,\n",
       " 0.011627906976744186,\n",
       " 0.1511627906976744,\n",
       " 0.0,\n",
       " 0.08139534883720931,\n",
       " 0.08139534883720931,\n",
       " 0.0,\n",
       " 0.29069767441860467,\n",
       " 0.023255813953488372,\n",
       " 0.03488372093023256,\n",
       " 0.023255813953488372,\n",
       " 0.011627906976744186]"
      ]
     },
     "execution_count": 10,
     "metadata": {},
     "output_type": "execute_result"
    }
   ],
   "source": [
    "sim.demand_locations[\"1011\"].incident_type_probs"
   ]
  },
  {
   "cell_type": "code",
   "execution_count": 11,
   "metadata": {},
   "outputs": [
    {
     "data": {
      "text/plain": [
       "'OMS / automatische melding'"
      ]
     },
     "execution_count": 11,
     "metadata": {},
     "output_type": "execute_result"
    }
   ],
   "source": [
    "sim.demand_locations[\"1012\"].sample_incident_type()"
   ]
  },
  {
   "cell_type": "code",
   "execution_count": null,
   "metadata": {},
   "outputs": [],
   "source": [
    "# check if probabilities match out: \n",
    "N = 10000\n",
    "np.sum(np.array([sim.demand_locations[\"1011\"].sample_incident_type() for i in range(N)]) == \"Assistentie Ambulance\") / N"
   ]
  },
  {
   "cell_type": "code",
   "execution_count": 14,
   "metadata": {},
   "outputs": [
    {
     "name": "stdout",
     "output_type": "stream",
     "text": [
      "test. keys: dict_keys(['Onderwijsfunctie', 'Overige gebruiksfunctie', 'Winkelfunctie', 'Woonfunctie']) \n",
      "values: dict_values([0.08333333333333333, 0.25, 0.3333333333333333, 0.3333333333333333])\n"
     ]
    },
    {
     "ename": "ValueError",
     "evalue": "a must be 1-dimensional or an integer",
     "output_type": "error",
     "traceback": [
      "\u001b[1;31m---------------------------------------------------------------------------\u001b[0m",
      "\u001b[1;31mTypeError\u001b[0m                                 Traceback (most recent call last)",
      "\u001b[1;32mmtrand.pyx\u001b[0m in \u001b[0;36mmtrand.RandomState.choice\u001b[1;34m()\u001b[0m\n",
      "\u001b[1;31mTypeError\u001b[0m: 'dict_keys' object cannot be interpreted as an integer",
      "\nDuring handling of the above exception, another exception occurred:\n",
      "\u001b[1;31mValueError\u001b[0m                                Traceback (most recent call last)",
      "\u001b[1;32m<ipython-input-14-cc357baa4984>\u001b[0m in \u001b[0;36m<module>\u001b[1;34m()\u001b[0m\n\u001b[0;32m      1\u001b[0m \u001b[0minc_type\u001b[0m \u001b[1;33m=\u001b[0m \u001b[0msim\u001b[0m\u001b[1;33m.\u001b[0m\u001b[0mdemand_locations\u001b[0m\u001b[1;33m[\u001b[0m\u001b[1;34m\"1012\"\u001b[0m\u001b[1;33m]\u001b[0m\u001b[1;33m.\u001b[0m\u001b[0msample_incident_type\u001b[0m\u001b[1;33m(\u001b[0m\u001b[1;33m)\u001b[0m\u001b[1;33m\u001b[0m\u001b[0m\n\u001b[1;32m----> 2\u001b[1;33m \u001b[0msim\u001b[0m\u001b[1;33m.\u001b[0m\u001b[0mdemand_locations\u001b[0m\u001b[1;33m[\u001b[0m\u001b[1;34m\"1012\"\u001b[0m\u001b[1;33m]\u001b[0m\u001b[1;33m.\u001b[0m\u001b[0msample_building_function\u001b[0m\u001b[1;33m(\u001b[0m\u001b[0minc_type\u001b[0m\u001b[1;33m)\u001b[0m\u001b[1;33m\u001b[0m\u001b[0m\n\u001b[0m",
      "\u001b[1;32m~\\Documents\\JADS Working Files\\FDAA\\FDAA\\FDAASimulationEngine.py\u001b[0m in \u001b[0;36msample_building_function\u001b[1;34m(self, incident_type)\u001b[0m\n\u001b[0;32m    383\u001b[0m \u001b[1;33m\u001b[0m\u001b[0m\n\u001b[0;32m    384\u001b[0m         return np.random.choice(a=self.building_function_dict[incident_type].keys(),\n\u001b[1;32m--> 385\u001b[1;33m                                 p=self.building_function_dict[incident_type].values())\n\u001b[0m\u001b[0;32m    386\u001b[0m \u001b[1;33m\u001b[0m\u001b[0m\n\u001b[0;32m    387\u001b[0m \u001b[1;33m\u001b[0m\u001b[0m\n",
      "\u001b[1;32mmtrand.pyx\u001b[0m in \u001b[0;36mmtrand.RandomState.choice\u001b[1;34m()\u001b[0m\n",
      "\u001b[1;31mValueError\u001b[0m: a must be 1-dimensional or an integer"
     ]
    }
   ],
   "source": [
    "inc_type = sim.demand_locations[\"1012\"].sample_incident_type()\n",
    "sim.demand_locations[\"1012\"].sample_building_function(inc_type)"
   ]
  },
  {
   "cell_type": "code",
   "execution_count": null,
   "metadata": {},
   "outputs": [],
   "source": []
  }
 ],
 "metadata": {
  "kernelspec": {
   "display_name": "Python 3",
   "language": "python",
   "name": "python3"
  },
  "language_info": {
   "codemirror_mode": {
    "name": "ipython",
    "version": 3
   },
   "file_extension": ".py",
   "mimetype": "text/x-python",
   "name": "python",
   "nbconvert_exporter": "python",
   "pygments_lexer": "ipython3",
   "version": "3.6.4"
  }
 },
 "nbformat": 4,
 "nbformat_minor": 2
}
