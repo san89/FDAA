{
 "cells": [
  {
   "cell_type": "markdown",
   "metadata": {},
   "source": [
    "# Test classes and functions in FDAASimulationEngine"
   ]
  },
  {
   "cell_type": "code",
   "execution_count": 1,
   "metadata": {},
   "outputs": [],
   "source": [
    "import numpy as np\n",
    "import pandas as pd\n",
    "import matplotlib.pyplot as plt\n",
    "\n",
    "from FDAASimulationEngine import SimulationEngine, DemandLocation, Agent\n",
    "\n",
    "plt.style.use('dark_background')"
   ]
  },
  {
   "cell_type": "code",
   "execution_count": 2,
   "metadata": {},
   "outputs": [
    {
     "name": "stderr",
     "output_type": "stream",
     "text": [
      "C:\\Users\\s100385\\Anaconda3\\lib\\site-packages\\IPython\\core\\interactiveshell.py:2728: DtypeWarning: Columns (4,8) have mixed types. Specify dtype option on import or set low_memory=False.\n",
      "  interactivity=interactivity, compiler=compiler, result=result)\n"
     ]
    }
   ],
   "source": [
    "incidents = pd.read_csv(\"../Data/incidenten_2017.csv\", sep=\";\", decimal=\",\")\n",
    "deployments = pd.read_csv(\"../Data/inzetten_2017.csv\", sep=\";\", decimal=\",\")"
   ]
  },
  {
   "cell_type": "code",
   "execution_count": 3,
   "metadata": {},
   "outputs": [],
   "source": [
    "sim = SimulationEngine(demand_location_definition=\"postcode_digits\")"
   ]
  },
  {
   "cell_type": "code",
   "execution_count": 4,
   "metadata": {},
   "outputs": [
    {
     "name": "stdout",
     "output_type": "stream",
     "text": [
      "Only considering incidents between 10 and 20 O'clock.\n",
      "1 incident(s) removed because there were no corresponding deployments.\n",
      "Incident parameters are obtained from the data.\n"
     ]
    }
   ],
   "source": [
    "sim.fit_incident_parameters(incidents,\n",
    "                            deployments,\n",
    "                            time_of_day_filter=(10, 20))"
   ]
  },
  {
   "cell_type": "markdown",
   "metadata": {},
   "source": [
    "### Test incident sampling"
   ]
  },
  {
   "cell_type": "code",
   "execution_count": 5,
   "metadata": {},
   "outputs": [],
   "source": [
    "sim.initialize_demand_locations()"
   ]
  },
  {
   "cell_type": "code",
   "execution_count": 6,
   "metadata": {},
   "outputs": [
    {
     "name": "stdout",
     "output_type": "stream",
     "text": [
      "0\n",
      "Hulpverlening algemeen\n",
      "1\n",
      "{'Overig': 1, 'TS': 1}\n",
      "1073\n"
     ]
    }
   ],
   "source": [
    "incident = sim.generate_incident()\n",
    "print(incident.start_time)\n",
    "print(incident.type)\n",
    "print(incident.priority)\n",
    "print(incident.required_vehicles)\n",
    "print(incident.location)"
   ]
  },
  {
   "cell_type": "code",
   "execution_count": 7,
   "metadata": {},
   "outputs": [
    {
     "name": "stdout",
     "output_type": "stream",
     "text": [
      "Time: 6.622619473333668. Incident: Reanimeren with priority 1 at postcode 1079.\n"
     ]
    }
   ],
   "source": [
    "agent = Agent()\n",
    "sim.set_agent(agent)\n",
    "sim.step()"
   ]
  },
  {
   "cell_type": "code",
   "execution_count": null,
   "metadata": {},
   "outputs": [],
   "source": [
    "N = len(incidents)\n",
    "print(\"{} incidents in 2017.\".format(N))\n",
    "\n",
    "T = 365*24*60 # minutes"
   ]
  },
  {
   "cell_type": "code",
   "execution_count": null,
   "metadata": {},
   "outputs": [],
   "source": [
    "sim.verbose = False\n",
    "sim.simulate(simulation_time=T)"
   ]
  },
  {
   "cell_type": "markdown",
   "metadata": {},
   "source": [
    "### Test DemandLocation"
   ]
  },
  {
   "cell_type": "code",
   "execution_count": null,
   "metadata": {},
   "outputs": [],
   "source": [
    "sim.initialize_demand_locations()"
   ]
  },
  {
   "cell_type": "code",
   "execution_count": null,
   "metadata": {},
   "outputs": [],
   "source": [
    "sim.demand_locations[\"1011\"]"
   ]
  },
  {
   "cell_type": "code",
   "execution_count": null,
   "metadata": {},
   "outputs": [],
   "source": [
    "sim.demand_locations[\"1011\"].id"
   ]
  },
  {
   "cell_type": "code",
   "execution_count": null,
   "metadata": {},
   "outputs": [],
   "source": [
    "sim.demand_locations[\"1011\"].incident_type_names"
   ]
  },
  {
   "cell_type": "code",
   "execution_count": null,
   "metadata": {},
   "outputs": [],
   "source": [
    "sim.demand_locations[\"1011\"].incident_type_probs"
   ]
  },
  {
   "cell_type": "code",
   "execution_count": null,
   "metadata": {},
   "outputs": [],
   "source": [
    "sim.demand_locations[\"1012\"].sample_incident_type()"
   ]
  },
  {
   "cell_type": "code",
   "execution_count": null,
   "metadata": {},
   "outputs": [],
   "source": [
    "# check if probabilities match out: \n",
    "N = 10000\n",
    "np.sum(np.array([sim.demand_locations[\"1011\"].sample_incident_type() for i in range(N)]) == \"Assistentie Ambulance\") / N"
   ]
  },
  {
   "cell_type": "code",
   "execution_count": null,
   "metadata": {},
   "outputs": [],
   "source": [
    "inc_type = sim.demand_locations[\"1012\"].sample_incident_type()\n",
    "sim.demand_locations[\"1012\"].sample_building_function(inc_type)"
   ]
  },
  {
   "cell_type": "code",
   "execution_count": null,
   "metadata": {},
   "outputs": [],
   "source": [
    "sim."
   ]
  }
 ],
 "metadata": {
  "kernelspec": {
   "display_name": "Python 3",
   "language": "python",
   "name": "python3"
  },
  "language_info": {
   "codemirror_mode": {
    "name": "ipython",
    "version": 3
   },
   "file_extension": ".py",
   "mimetype": "text/x-python",
   "name": "python",
   "nbconvert_exporter": "python",
   "pygments_lexer": "ipython3",
   "version": "3.6.4"
  }
 },
 "nbformat": 4,
 "nbformat_minor": 2
}
